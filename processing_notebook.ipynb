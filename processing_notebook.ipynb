{
 "cells": [
  {
   "cell_type": "code",
   "execution_count": 1,
   "metadata": {},
   "outputs": [],
   "source": [
    "def get_text(filename):\n",
    "    with open(filename, 'r') as file:\n",
    "        string = file.read()\n",
    "    return string\n",
    "\n",
    "\n",
    "texto = get_text('text_file.txt')\n",
    "#print(texto)"
   ]
  },
  {
   "cell_type": "code",
   "execution_count": 2,
   "metadata": {},
   "outputs": [],
   "source": [
    "import nltk\n",
    "#nltk.download()"
   ]
  },
  {
   "cell_type": "code",
   "execution_count": 3,
   "metadata": {},
   "outputs": [],
   "source": [
    "from nltk.tokenize import word_tokenize\n",
    "from nltk.tokenize import sent_tokenize\n",
    "\n",
    "sentencas = sent_tokenize(texto)\n",
    "palavras = word_tokenize(texto.lower())"
   ]
  },
  {
   "cell_type": "code",
   "execution_count": 4,
   "metadata": {},
   "outputs": [],
   "source": [
    "from nltk.corpus import stopwords\n",
    "from string import punctuation\n",
    "\n",
    "stopwords = set(stopwords.words('portuguese') + list(punctuation))\n",
    "palavras_sem_stopwords = [palavra for palavra in palavras if palavra not in stopwords]\n"
   ]
  },
  {
   "cell_type": "code",
   "execution_count": 5,
   "metadata": {},
   "outputs": [],
   "source": [
    "from nltk.probability import FreqDist\n",
    "\n",
    "frequencia = FreqDist(palavras_sem_stopwords)\n",
    "\n",
    "from collections import defaultdict\n",
    "\n",
    "sentencas_importantes = defaultdict(int)\n"
   ]
  },
  {
   "cell_type": "code",
   "execution_count": 6,
   "metadata": {},
   "outputs": [],
   "source": [
    "for i, sentenca in enumerate(sentencas):\n",
    "    for palavra in word_tokenize(sentenca.lower()):\n",
    "        if palavra in frequencia:\n",
    "            sentencas_importantes[i] += frequencia[palavra]\n",
    "\n",
    "from heapq import nlargest\n",
    "\n",
    "idx_sentencas_importantes = nlargest(4, sentencas_importantes, sentencas_importantes.get)\n"
   ]
  },
  {
   "cell_type": "code",
   "execution_count": 7,
   "metadata": {},
   "outputs": [
    {
     "name": "stdout",
     "output_type": "stream",
     "text": [
      "Você precisa definir regras sobre como você irá realizar a gestão de riscos porque você quer que toda a organização faça isso da mesma forma – o maior problemas com a gestão de riscos acontece se diferentes partes da organização realizam a gestão de formas diferentes.\n",
      "Implementação da avaliação de riscos\n",
      "\n",
      "Uma vez que você saiba as regras, você pode iniciar identificando quais problemas em potencial poderiam acontecer a você – você precisa listar todos os seus ativos, depois ameaças e vulnerabilidades relacionadas a estes ativos, avaliar o impacto e a probabilidade para cada combinação de ativos/ameaças/vulnerabilidades e finalmente calcular o nível de risco.\n",
      "Implementação do tratamento de riscos\n",
      "\n",
      "Claro que nem todos os riscos são criado de forma igual – você deve focar nos mais importantes, os assim chamados ‘riscos inaceitáveis’.\n",
      "Declaração de Aplicabilidade\n",
      "\n",
      "Este documento na verdade mostra o perfil de segurança de sua organização – baseado nos resultados do tratamento de riscos você precisa listar todos os controles que você implementou, porque você os implementou e como.\n"
     ]
    }
   ],
   "source": [
    "for i in sorted(idx_sentencas_importantes):\n",
    "    print(sentencas[i])"
   ]
  },
  {
   "cell_type": "code",
   "execution_count": null,
   "metadata": {},
   "outputs": [],
   "source": []
  }
 ],
 "metadata": {
  "kernelspec": {
   "display_name": "Python 3",
   "language": "python",
   "name": "python3"
  },
  "language_info": {
   "codemirror_mode": {
    "name": "ipython",
    "version": 3
   },
   "file_extension": ".py",
   "mimetype": "text/x-python",
   "name": "python",
   "nbconvert_exporter": "python",
   "pygments_lexer": "ipython3",
   "version": "3.8.8"
  }
 },
 "nbformat": 4,
 "nbformat_minor": 4
}
